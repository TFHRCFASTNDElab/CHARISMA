{
 "cells": [
  {
   "cell_type": "code",
   "execution_count": 0,
   "metadata": {
    "application/vnd.databricks.v1+cell": {
     "cellMetadata": {
      "byteLimit": 2048000,
      "rowLimit": 10000
     },
     "inputWidgets": {},
     "nuid": "426d966d-4fb0-4d34-a9bf-b6e235f2d193",
     "showTitle": false,
     "title": ""
    }
   },
   "outputs": [],
   "source": [
    "'Please Enter your DOT Email address.'\n",
    "user_email_address = 'your.name@dot.gov'"
   ]
  },
  {
   "cell_type": "code",
   "execution_count": 0,
   "metadata": {
    "application/vnd.databricks.v1+cell": {
     "cellMetadata": {
      "byteLimit": 2048000,
      "rowLimit": 10000
     },
     "inputWidgets": {},
     "nuid": "47a22fa8-19a8-4174-b9b2-c06d41fbd20f",
     "showTitle": false,
     "title": ""
    }
   },
   "outputs": [],
   "source": [
    "import json\n",
    "\n",
    "# Revise the directory path. We recommend to create git_clone under your Workspace directory. \n",
    "# Modify the 'paths' dictionary if you want to create under nested directory in Workspace.\n",
    "\n",
    "# Define paths\n",
    "paths = {\n",
    "    \"Requirement_path\": f'/Workspace/Users/{user_email_address}/CHARISMA/environment/requirements.txt',\n",
    "    \"Code_path\": f'/Workspace/Users/{user_email_address}/CHARISMA/ground-penetrating-radar/Rebar corrosion/code/',\n",
    "    \"Data_path\": f'/Workspace/Users/{user_email_address}/CHARISMA/ground-penetrating-radar/Rebar corrosion/data/'\n",
    "}\n",
    "\n",
    "# Save paths to a JSON file\n",
    "with open('paths.json', 'w') as f:\n",
    "    json.dump(paths, f)"
   ]
  },
  {
   "cell_type": "code",
   "execution_count": 0,
   "metadata": {
    "application/vnd.databricks.v1+cell": {
     "cellMetadata": {
      "byteLimit": 2048000,
      "rowLimit": 10000
     },
     "inputWidgets": {},
     "nuid": "18d7061c-3295-46d3-895b-04549a13deb0",
     "showTitle": false,
     "title": ""
    }
   },
   "outputs": [],
   "source": [
    "# Install CHARISMA\n",
    "%pip install -r \"{paths['Requirement_path']}\"\n",
    "\n",
    "# Restart Kernel\n",
    "dbutils.library.restartPython()"
   ]
  },
  {
   "cell_type": "code",
   "execution_count": 0,
   "metadata": {
    "application/vnd.databricks.v1+cell": {
     "cellMetadata": {
      "byteLimit": 2048000,
      "rowLimit": 10000
     },
     "inputWidgets": {},
     "nuid": "0e85a68a-3b2c-48da-bc9f-30f7de3daa4f",
     "showTitle": false,
     "title": ""
    }
   },
   "outputs": [],
   "source": [
    "# Since we restarted kernel\n",
    "import json\n",
    "\n",
    "# Load paths from the JSON file\n",
    "with open('paths.json', 'r') as f:\n",
    "    paths = json.load(f)\n",
    "\n",
    "# Retrieve individual paths\n",
    "Code_path = paths[\"Code_path\"]\n",
    "Data_path = paths[\"Data_path\"]"
   ]
  },
  {
   "cell_type": "code",
   "execution_count": 0,
   "metadata": {
    "application/vnd.databricks.v1+cell": {
     "cellMetadata": {
      "byteLimit": 2048000,
      "rowLimit": 10000
     },
     "inputWidgets": {},
     "nuid": "96a986d6-b338-435a-a2f5-2b59d80a9ddf",
     "showTitle": false,
     "title": ""
    }
   },
   "outputs": [],
   "source": [
    "import sys\n",
    "sys.path.append(Code_path)\n",
    "from tqdm import tqdm\n",
    "import warnings\n",
    "from CorrosionAssessment import CorrosionAssessment\n",
    "from DztToCsvConverter import DztToCsvConverter\n",
    "from ContourProcessor import ContourProcessor\n",
    "from XMLReader import XMLReader\n",
    "import download_unzip as du\n",
    "import GPR_plot\n",
    "warnings.filterwarnings('ignore')\n",
    "import mlflow\n",
    "mlflow.autolog(disable=True)"
   ]
  },
  {
   "cell_type": "code",
   "execution_count": 0,
   "metadata": {
    "application/vnd.databricks.v1+cell": {
     "cellMetadata": {
      "byteLimit": 2048000,
      "rowLimit": 10000
     },
     "inputWidgets": {},
     "nuid": "000ac6f8-7125-4558-93e0-f0bb63a19e36",
     "showTitle": false,
     "title": ""
    }
   },
   "outputs": [],
   "source": [
    "#Data path\n",
    "home_dir = Data_path\n",
    "\n",
    "#Download the GPR data\n",
    "txt_file = home_dir + 'download_link.txt'\n",
    "du.download_data_from_links(txt_file, home_dir)\n",
    "\n",
    "#Unzip the GPR data\n",
    "du.unzip_all(home_dir)\n",
    "\n",
    "#Read XML file and create coordinate dataframe\n",
    "xml_file = home_dir + '28-000002_2019-05-21_GPR.xml'\n",
    "xml_reader = XMLReader(xml_file)\n",
    "df_coord = xml_reader.df_coord"
   ]
  },
  {
   "cell_type": "code",
   "execution_count": 0,
   "metadata": {
    "application/vnd.databricks.v1+cell": {
     "cellMetadata": {
      "byteLimit": 2048000,
      "rowLimit": 10000
     },
     "inputWidgets": {},
     "nuid": "5de2fb71-4929-4ab4-ad57-4a160fd0b8fe",
     "showTitle": false,
     "title": ""
    }
   },
   "outputs": [],
   "source": [
    "# Iterate over zones\n",
    "for zone in tqdm(range(1, 5), desc=\"Converting DZT to CSV\"):\n",
    "    file_path = home_dir + f'GPR Zone {zone:02d}'\n",
    "    converter = DztToCsvConverter(df_coord, zone, file_path)\n",
    "    converter.process_dzt_files()\n",
    "\n",
    "print(\"Conversion from DZT to CSV completed.\")"
   ]
  },
  {
   "cell_type": "code",
   "execution_count": 0,
   "metadata": {
    "application/vnd.databricks.v1+cell": {
     "cellMetadata": {
      "byteLimit": 2048000,
      "rowLimit": 10000
     },
     "inputWidgets": {},
     "nuid": "e5835e46-7e71-4f1d-a6e6-6ece5ed6a7d8",
     "showTitle": false,
     "title": ""
    }
   },
   "outputs": [],
   "source": [
    "#Execution\n",
    "amplitude_section_01 = CorrosionAssessment(df_coord,\n",
    "                                 1, #zone_number\n",
    "                                 670, #chunk_size\n",
    "                                 5, #gpr_lanes\n",
    "                                 home_dir, #home_dir\n",
    "                                 10, #window\n",
    "                                 0, #alpha\n",
    "                                 0, #t0\n",
    "                                 0, #tmax\n",
    "                                 8, #rhf_espr\n",
    "                                 0.15, #vmin\n",
    "                                 0.70, #vmax\n",
    "                                 100, #num_clusters\n",
    "                                 0.51, #amplitude_threshold\n",
    "                                 8, #depth_threshold\n",
    "                                 20, #minimal_y_index\n",
    "                                 2, #redundancy_filter\n",
    "                                 0.20) #scaling_factor\n",
    "x_points_list_01, y_points_list_01, z_points_list_01, df_chunk_01, time0ed_01, gained_01, dewowed_01, bgrmed_01, migrated_01, contrasted_01, located_01, max_row_list_01, df_split_list_01, xy_coord_01 = amplitude_section_01.execute_rebar_mapping()\n",
    "amplitude_section_01.plot_combined_zone_contour(x_points_list_01, y_points_list_01, z_points_list_01, xy_coord_01, amplitude_section_01.zone_number)\n",
    "amplitude_section_01.plot_combined_zone_contour_normal(x_points_list_01, y_points_list_01, z_points_list_01, xy_coord_01, amplitude_section_01.zone_number)\n",
    "\n"
   ]
  },
  {
   "cell_type": "code",
   "execution_count": 0,
   "metadata": {
    "application/vnd.databricks.v1+cell": {
     "cellMetadata": {
      "byteLimit": 2048000,
      "rowLimit": 10000
     },
     "inputWidgets": {},
     "nuid": "0c430334-d607-4e59-911e-68bc8dd4db9b",
     "showTitle": false,
     "title": ""
    }
   },
   "outputs": [],
   "source": [
    "#anomaly correction on zone 2\n",
    "grouped_df = df_coord.groupby('Zone')\n",
    "zone_df = grouped_df.get_group('02')\n",
    "df_coord.loc[28:31, 'Start_X'] = df_coord.loc[20:23, 'Start_X'].values\n",
    "df_coord.loc[28:31, 'End_X'] = df_coord.loc[20:23, 'End_X'].values\n",
    "\n",
    "amplitude_section_02 = CorrosionAssessment(df_coord,\n",
    "                                 2, #zone_number\n",
    "                                 670, #chunk_size\n",
    "                                 4, #gpr_lanes\n",
    "                                 home_dir, #home_dir\n",
    "                                 10, #window\n",
    "                                 0, #alpha\n",
    "                                 0, #t0\n",
    "                                 0, #tmax\n",
    "                                 8, #rhf_espr\n",
    "                                 0.15, #vmin\n",
    "                                 0.70, #vmax\n",
    "                                 100, #num_clusters\n",
    "                                 0.51, #amplitude_threshold\n",
    "                                 8, #depth_threshold\n",
    "                                 20, #minimal_y_index\n",
    "                                 2, #redundancy_filter\n",
    "                                 0.20) #scaling_factor\n",
    "x_points_list_02, y_points_list_02, z_points_list_02, df_chunk_02, time0ed_02, gained_02, dewowed_02, bgrmed_02, migrated_02, contrasted_02, located_02, max_row_list_02, df_split_list_02, xy_coord_02 = amplitude_section_02.execute_rebar_mapping()\n",
    "amplitude_section_02.plot_combined_zone_contour(x_points_list_02, y_points_list_02, z_points_list_02, xy_coord_02, amplitude_section_02.zone_number)\n",
    "amplitude_section_02.plot_combined_zone_contour_normal(x_points_list_02, y_points_list_02, z_points_list_02, xy_coord_02, amplitude_section_02.zone_number)\n"
   ]
  },
  {
   "cell_type": "code",
   "execution_count": 0,
   "metadata": {
    "application/vnd.databricks.v1+cell": {
     "cellMetadata": {
      "byteLimit": 2048000,
      "rowLimit": 10000
     },
     "inputWidgets": {},
     "nuid": "d6d20446-7650-4cfd-9c66-07b3073226ae",
     "showTitle": false,
     "title": ""
    }
   },
   "outputs": [],
   "source": [
    "amplitude_section_03 = CorrosionAssessment(df_coord,\n",
    "                                 3, #zone_number\n",
    "                                 670, #chunk_size\n",
    "                                 3, #gpr_lanes\n",
    "                                 home_dir, #home_dir\n",
    "                                 10, #window\n",
    "                                 0, #alpha\n",
    "                                 0, #t0\n",
    "                                 0, #tmax\n",
    "                                 8, #rhf_espr\n",
    "                                 0.15, #vmin\n",
    "                                 0.70, #vmax\n",
    "                                 100, #num_clusters\n",
    "                                 0.51, #amplitude_threshold\n",
    "                                 8, #depth_threshold\n",
    "                                 20, #minimal_y_index\n",
    "                                 2, #redundancy_filter\n",
    "                                 0.20) #scaling_factor\n",
    "x_points_list_03, y_points_list_03, z_points_list_03, df_chunk_03, time0ed_03, gained_03, dewowed_03, bgrmed_03, migrated_03, contrasted_03, located_03, max_row_list_03, df_split_list_03, xy_coord_03 = amplitude_section_03.execute_rebar_mapping()\n",
    "amplitude_section_03.plot_combined_zone_contour(x_points_list_03, y_points_list_03, z_points_list_03, xy_coord_03, amplitude_section_03.zone_number)\n",
    "amplitude_section_03.plot_combined_zone_contour_normal(x_points_list_03, y_points_list_03, z_points_list_03, xy_coord_03, amplitude_section_03.zone_number)\n"
   ]
  },
  {
   "cell_type": "code",
   "execution_count": 0,
   "metadata": {
    "application/vnd.databricks.v1+cell": {
     "cellMetadata": {
      "byteLimit": 2048000,
      "rowLimit": 10000
     },
     "inputWidgets": {},
     "nuid": "38157b23-fc38-4493-ac1c-50908c99d89b",
     "showTitle": false,
     "title": ""
    }
   },
   "outputs": [],
   "source": [
    "amplitude_section_04 = CorrosionAssessment(df_coord,\n",
    "                                 4, #zone_number\n",
    "                                 670, #chunk_size\n",
    "                                 3, #gpr_lanes\n",
    "                                 home_dir, #home_dir\n",
    "                                 10, #window\n",
    "                                 0, #alpha\n",
    "                                 0, #t0\n",
    "                                 0, #tmax\n",
    "                                 8, #rhf_espr\n",
    "                                 0.15, #vmin\n",
    "                                 0.70, #vmax\n",
    "                                 100, #num_clusters\n",
    "                                 0.51, #amplitude_threshold\n",
    "                                 8, #depth_threshold\n",
    "                                 20, #minimal_y_index\n",
    "                                 2, #redundancy_filter\n",
    "                                 0.20) #scaling_factor\n",
    "x_points_list_04, y_points_list_04, z_points_list_04, df_chunk_04, time0ed_04, gained_04, dewowed_04, bgrmed_04, migrated_04, contrasted_04, located_04, max_row_list_04, df_split_list_04, xy_coord_04 = amplitude_section_04.execute_rebar_mapping()\n",
    "amplitude_section_04.plot_combined_zone_contour(x_points_list_04, y_points_list_04, z_points_list_04, xy_coord_04, amplitude_section_04.zone_number)\n",
    "amplitude_section_04.plot_combined_zone_contour_normal(x_points_list_04, y_points_list_04, z_points_list_04, xy_coord_04, amplitude_section_04.zone_number)"
   ]
  },
  {
   "cell_type": "code",
   "execution_count": 0,
   "metadata": {
    "application/vnd.databricks.v1+cell": {
     "cellMetadata": {
      "byteLimit": 2048000,
      "rowLimit": 10000
     },
     "inputWidgets": {},
     "nuid": "e47f0525-b2be-4f9f-baf0-93d20b568d57",
     "showTitle": false,
     "title": ""
    }
   },
   "outputs": [],
   "source": [
    "\n",
    "# Define the comprehensive list\n",
    "lists = {}\n",
    "lists['01'] = (x_points_list_01, y_points_list_01, z_points_list_01)\n",
    "lists['02'] = (x_points_list_02, y_points_list_02, z_points_list_02)\n",
    "lists['03'] = (x_points_list_03, y_points_list_03, z_points_list_03)\n",
    "lists['04'] = (x_points_list_04, y_points_list_04, z_points_list_04)\n",
    "\n",
    "#plot the contours\n",
    "processor = ContourProcessor()\n",
    "processor.contour_scan_area_only(lists)\n",
    "processor.contour_interpolate_entire(lists)\n",
    "processor.contour_scan_area_only_normal(lists)\n",
    "processor.contour_interpolate_entire_normal(lists)"
   ]
  }
 ],
 "metadata": {
  "application/vnd.databricks.v1+notebook": {
   "dashboards": [],
   "environmentMetadata": null,
   "language": "python",
   "notebookMetadata": {
    "pythonIndentUnit": 4
   },
   "notebookName": "corrosion_notebook_db",
   "widgets": {}
  }
 },
 "nbformat": 4,
 "nbformat_minor": 0
}
